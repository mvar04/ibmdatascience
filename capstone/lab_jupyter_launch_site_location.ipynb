{
  "metadata": {
    "kernelspec": {
      "name": "python",
      "display_name": "Python (Pyodide)",
      "language": "python"
    },
    "language_info": {
      "codemirror_mode": {
        "name": "python",
        "version": 3
      },
      "file_extension": ".py",
      "mimetype": "text/x-python",
      "name": "python",
      "nbconvert_exporter": "python",
      "pygments_lexer": "ipython3",
      "version": "3.8"
    },
    "prev_pub_hash": "0f9db842b41c859223722809f8be602f5df9334348bd206b11e3af58c30eb345"
  },
  "nbformat_minor": 4,
  "nbformat": 4,
  "cells": [
    {
      "cell_type": "markdown",
      "source": "<p style=\"text-align:center\">\n    <a href=\"https://skills.network/?utm_medium=Exinfluencer&utm_source=Exinfluencer&utm_content=000026UJ&utm_term=10006555&utm_id=NA-SkillsNetwork-Channel-SkillsNetworkCoursesIBMDS0321ENSkillsNetwork26802033-2022-01-01\" target=\"_blank\">\n    <img src=\"https://cf-courses-data.s3.us.cloud-object-storage.appdomain.cloud/assets/logos/SN_web_lightmode.png\" width=\"200\" alt=\"Skills Network Logo\">\n    </a>\n</p>\n",
      "metadata": {}
    },
    {
      "cell_type": "markdown",
      "source": "# **Hands-on Lab: Interactive Visual Analytics with Folium**\n",
      "metadata": {}
    },
    {
      "cell_type": "markdown",
      "source": "Estimated time needed: **40** minutes\n",
      "metadata": {}
    },
    {
      "cell_type": "markdown",
      "source": "The launch success rate may depend on many factors such as payload mass, orbit type, and so on. It may also depend on the location and proximities of a launch site, i.e., the initial position of rocket trajectories. Finding an optimal location for building a launch site certainly involves many factors and hopefully we could discover some of the factors by analyzing the existing launch site locations.\n",
      "metadata": {}
    },
    {
      "cell_type": "markdown",
      "source": "In the previous exploratory data analysis labs, you have visualized the SpaceX launch dataset using `matplotlib` and `seaborn` and discovered some preliminary correlations between the launch site and success rates. In this lab, you will be performing more interactive visual analytics using `Folium`.\n",
      "metadata": {}
    },
    {
      "cell_type": "markdown",
      "source": "## Objectives\n",
      "metadata": {}
    },
    {
      "cell_type": "markdown",
      "source": "This lab contains the following tasks:\n\n*   **TASK 1:** Mark all launch sites on a map\n*   **TASK 2:** Mark the success/failed launches for each site on the map\n*   **TASK 3:** Calculate the distances between a launch site to its proximities\n\nAfter completed the above tasks, you should be able to find some geographical patterns about launch sites.\n",
      "metadata": {}
    },
    {
      "cell_type": "markdown",
      "source": "Let's first import required Python packages for this lab:\n",
      "metadata": {}
    },
    {
      "cell_type": "code",
      "source": "import piplite\nawait piplite.install(['folium'])\nawait piplite.install(['pandas'])",
      "metadata": {
        "trusted": true
      },
      "outputs": [],
      "execution_count": 1
    },
    {
      "cell_type": "code",
      "source": "import folium\nimport pandas as pd",
      "metadata": {
        "trusted": true
      },
      "outputs": [],
      "execution_count": 2
    },
    {
      "cell_type": "code",
      "source": "# Import folium MarkerCluster plugin\nfrom folium.plugins import MarkerCluster\n# Import folium MousePosition plugin\nfrom folium.plugins import MousePosition\n# Import folium DivIcon plugin\nfrom folium.features import DivIcon",
      "metadata": {
        "trusted": true
      },
      "outputs": [],
      "execution_count": 3
    },
    {
      "cell_type": "markdown",
      "source": "If you need to refresh your memory about folium, you may download and refer to this previous folium lab:\n",
      "metadata": {}
    },
    {
      "cell_type": "markdown",
      "source": "[Generating Maps with Python](https://cf-courses-data.s3.us.cloud-object-storage.appdomain.cloud/IBMDeveloperSkillsNetwork-DV0101EN-SkillsNetwork/labs/v4/DV0101EN-Exercise-Generating-Maps-in-Python.ipynb)\n",
      "metadata": {}
    },
    {
      "cell_type": "code",
      "source": "## Task 1: Mark all launch sites on a map\n",
      "metadata": {},
      "outputs": [],
      "execution_count": null
    },
    {
      "cell_type": "markdown",
      "source": "First, let's try to add each site's location on a map using site's latitude and longitude coordinates\n",
      "metadata": {}
    },
    {
      "cell_type": "markdown",
      "source": "The following dataset with the name `spacex_launch_geo.csv` is an augmented dataset with latitude and longitude added for each site.\n",
      "metadata": {}
    },
    {
      "cell_type": "code",
      "source": "# Download and read the `spacex_launch_geo.csv`\nfrom js import fetch\nimport io\n\nURL = 'https://cf-courses-data.s3.us.cloud-object-storage.appdomain.cloud/IBM-DS0321EN-SkillsNetwork/datasets/spacex_launch_geo.csv'\nresp = await fetch(URL)\nspacex_csv_file = io.BytesIO((await resp.arrayBuffer()).to_py())\nspacex_df=pd.read_csv(spacex_csv_file)",
      "metadata": {
        "trusted": true
      },
      "outputs": [],
      "execution_count": 4
    },
    {
      "cell_type": "markdown",
      "source": "Now, you can take a look at what are the coordinates for each site.\n",
      "metadata": {}
    },
    {
      "cell_type": "code",
      "source": "# Select relevant sub-columns: `Launch Site`, `Lat(Latitude)`, `Long(Longitude)`, `class`\nspacex_df = spacex_df[['Launch Site', 'Lat', 'Long', 'class']]\nlaunch_sites_df = spacex_df.groupby(['Launch Site'], as_index=False).first()\nlaunch_sites_df = launch_sites_df[['Launch Site', 'Lat', 'Long']]\nlaunch_sites_df",
      "metadata": {
        "trusted": true
      },
      "outputs": [
        {
          "execution_count": 5,
          "output_type": "execute_result",
          "data": {
            "text/plain": "    Launch Site        Lat        Long\n0   CCAFS LC-40  28.562302  -80.577356\n1  CCAFS SLC-40  28.563197  -80.576820\n2    KSC LC-39A  28.573255  -80.646895\n3   VAFB SLC-4E  34.632834 -120.610745",
            "text/html": "<div>\n<style scoped>\n    .dataframe tbody tr th:only-of-type {\n        vertical-align: middle;\n    }\n\n    .dataframe tbody tr th {\n        vertical-align: top;\n    }\n\n    .dataframe thead th {\n        text-align: right;\n    }\n</style>\n<table border=\"1\" class=\"dataframe\">\n  <thead>\n    <tr style=\"text-align: right;\">\n      <th></th>\n      <th>Launch Site</th>\n      <th>Lat</th>\n      <th>Long</th>\n    </tr>\n  </thead>\n  <tbody>\n    <tr>\n      <th>0</th>\n      <td>CCAFS LC-40</td>\n      <td>28.562302</td>\n      <td>-80.577356</td>\n    </tr>\n    <tr>\n      <th>1</th>\n      <td>CCAFS SLC-40</td>\n      <td>28.563197</td>\n      <td>-80.576820</td>\n    </tr>\n    <tr>\n      <th>2</th>\n      <td>KSC LC-39A</td>\n      <td>28.573255</td>\n      <td>-80.646895</td>\n    </tr>\n    <tr>\n      <th>3</th>\n      <td>VAFB SLC-4E</td>\n      <td>34.632834</td>\n      <td>-120.610745</td>\n    </tr>\n  </tbody>\n</table>\n</div>"
          },
          "metadata": {}
        }
      ],
      "execution_count": 5
    },
    {
      "cell_type": "markdown",
      "source": "Above coordinates are just plain numbers that can not give you any intuitive insights about where are those launch sites. If you are very good at geography, you can interpret those numbers directly in your mind. If not, that's fine too. Let's visualize those locations by pinning them on a map.\n",
      "metadata": {}
    },
    {
      "cell_type": "markdown",
      "source": "We first need to create a folium `Map` object, with an initial center location to be NASA Johnson Space Center at Houston, Texas.\n",
      "metadata": {}
    },
    {
      "cell_type": "code",
      "source": "# Start location is NASA Johnson Space Center\nnasa_coordinate = [29.559684888503615, -95.0830971930759]\nsite_map = folium.Map(location=nasa_coordinate, zoom_start=10)",
      "metadata": {
        "trusted": true
      },
      "outputs": [],
      "execution_count": 6
    },
    {
      "cell_type": "markdown",
      "source": "We could use `folium.Circle` to add a highlighted circle area with a text label on a specific coordinate. For example,\n",
      "metadata": {}
    },
    {
      "cell_type": "code",
      "source": "# Create a blue circle at NASA Johnson Space Center's coordinate with a popup label showing its name\ncircle = folium.Circle(nasa_coordinate, radius=1000, color='#d35400', fill=True).add_child(folium.Popup('NASA Johnson Space Center'))\n# Create a blue circle at NASA Johnson Space Center's coordinate with a icon showing its name\nmarker = folium.map.Marker(\n    nasa_coordinate,\n    # Create an icon as a text label\n    icon=DivIcon(\n        icon_size=(20,20),\n        icon_anchor=(0,0),\n        html='<div style=\"font-size: 12; color:#d35400;\"><b>%s</b></div>' % 'NASA JSC',\n        )\n    )\nsite_map.add_child(circle)\nsite_map.add_child(marker)",
      "metadata": {
        "trusted": true
      },
      "outputs": [
        {
          "execution_count": 7,
          "output_type": "execute_result",
          "data": {
            "text/plain": "<folium.folium.Map at 0x3b110e8>",
            "text/html": "<div style=\"width:100%;\"><div style=\"position:relative;width:100%;height:0;padding-bottom:60%;\"><span style=\"color:#565656\">Make this Notebook Trusted to load map: File -> Trust Notebook</span><iframe srcdoc=\"&lt;!DOCTYPE html&gt;\n&lt;html&gt;\n&lt;head&gt;\n    \n    &lt;meta http-equiv=&quot;content-type&quot; content=&quot;text/html; charset=UTF-8&quot; /&gt;\n    &lt;script src=&quot;https://cdn.jsdelivr.net/npm/leaflet@1.9.3/dist/leaflet.js&quot;&gt;&lt;/script&gt;\n    &lt;script src=&quot;https://code.jquery.com/jquery-3.7.1.min.js&quot;&gt;&lt;/script&gt;\n    &lt;script src=&quot;https://cdn.jsdelivr.net/npm/bootstrap@5.2.2/dist/js/bootstrap.bundle.min.js&quot;&gt;&lt;/script&gt;\n    &lt;script src=&quot;https://cdnjs.cloudflare.com/ajax/libs/Leaflet.awesome-markers/2.0.2/leaflet.awesome-markers.js&quot;&gt;&lt;/script&gt;\n    &lt;link rel=&quot;stylesheet&quot; href=&quot;https://cdn.jsdelivr.net/npm/leaflet@1.9.3/dist/leaflet.css&quot;/&gt;\n    &lt;link rel=&quot;stylesheet&quot; href=&quot;https://cdn.jsdelivr.net/npm/bootstrap@5.2.2/dist/css/bootstrap.min.css&quot;/&gt;\n    &lt;link rel=&quot;stylesheet&quot; href=&quot;https://netdna.bootstrapcdn.com/bootstrap/3.0.0/css/bootstrap-glyphicons.css&quot;/&gt;\n    &lt;link rel=&quot;stylesheet&quot; href=&quot;https://cdn.jsdelivr.net/npm/@fortawesome/fontawesome-free@6.2.0/css/all.min.css&quot;/&gt;\n    &lt;link rel=&quot;stylesheet&quot; href=&quot;https://cdnjs.cloudflare.com/ajax/libs/Leaflet.awesome-markers/2.0.2/leaflet.awesome-markers.css&quot;/&gt;\n    &lt;link rel=&quot;stylesheet&quot; href=&quot;https://cdn.jsdelivr.net/gh/python-visualization/folium/folium/templates/leaflet.awesome.rotate.min.css&quot;/&gt;\n    \n            &lt;meta name=&quot;viewport&quot; content=&quot;width=device-width,\n                initial-scale=1.0, maximum-scale=1.0, user-scalable=no&quot; /&gt;\n            &lt;style&gt;\n                #map_b463d13e495ebf06b30bca0367b1bb2b {\n                    position: relative;\n                    width: 100.0%;\n                    height: 100.0%;\n                    left: 0.0%;\n                    top: 0.0%;\n                }\n                .leaflet-container { font-size: 1rem; }\n            &lt;/style&gt;\n\n            &lt;style&gt;html, body {\n                width: 100%;\n                height: 100%;\n                margin: 0;\n                padding: 0;\n            }\n            &lt;/style&gt;\n\n            &lt;style&gt;#map {\n                position:absolute;\n                top:0;\n                bottom:0;\n                right:0;\n                left:0;\n                }\n            &lt;/style&gt;\n\n            &lt;script&gt;\n                L_NO_TOUCH = false;\n                L_DISABLE_3D = false;\n            &lt;/script&gt;\n\n        \n&lt;/head&gt;\n&lt;body&gt;\n    \n    \n            &lt;div class=&quot;folium-map&quot; id=&quot;map_b463d13e495ebf06b30bca0367b1bb2b&quot; &gt;&lt;/div&gt;\n        \n&lt;/body&gt;\n&lt;script&gt;\n    \n    \n            var map_b463d13e495ebf06b30bca0367b1bb2b = L.map(\n                &quot;map_b463d13e495ebf06b30bca0367b1bb2b&quot;,\n                {\n                    center: [29.559684888503615, -95.0830971930759],\n                    crs: L.CRS.EPSG3857,\n                    ...{\n  &quot;zoom&quot;: 10,\n  &quot;zoomControl&quot;: true,\n  &quot;preferCanvas&quot;: false,\n}\n\n                }\n            );\n\n            \n\n        \n    \n            var tile_layer_019696524339bcd9c44844a1c04e0c3d = L.tileLayer(\n                &quot;https://tile.openstreetmap.org/{z}/{x}/{y}.png&quot;,\n                {\n  &quot;minZoom&quot;: 0,\n  &quot;maxZoom&quot;: 19,\n  &quot;maxNativeZoom&quot;: 19,\n  &quot;noWrap&quot;: false,\n  &quot;attribution&quot;: &quot;\\u0026copy; \\u003ca href=\\&quot;https://www.openstreetmap.org/copyright\\&quot;\\u003eOpenStreetMap\\u003c/a\\u003e contributors&quot;,\n  &quot;subdomains&quot;: &quot;abc&quot;,\n  &quot;detectRetina&quot;: false,\n  &quot;tms&quot;: false,\n  &quot;opacity&quot;: 1,\n}\n\n            );\n        \n    \n            tile_layer_019696524339bcd9c44844a1c04e0c3d.addTo(map_b463d13e495ebf06b30bca0367b1bb2b);\n        \n    \n            var circle_7369800da2b670946c8bd002d9cae49e = L.circle(\n                [29.559684888503615, -95.0830971930759],\n                {&quot;bubblingMouseEvents&quot;: true, &quot;color&quot;: &quot;#d35400&quot;, &quot;dashArray&quot;: null, &quot;dashOffset&quot;: null, &quot;fill&quot;: true, &quot;fillColor&quot;: &quot;#d35400&quot;, &quot;fillOpacity&quot;: 0.2, &quot;fillRule&quot;: &quot;evenodd&quot;, &quot;lineCap&quot;: &quot;round&quot;, &quot;lineJoin&quot;: &quot;round&quot;, &quot;opacity&quot;: 1.0, &quot;radius&quot;: 1000, &quot;stroke&quot;: true, &quot;weight&quot;: 3}\n            ).addTo(map_b463d13e495ebf06b30bca0367b1bb2b);\n        \n    \n        var popup_894685e5a413a3024f1d608eea6d24e5 = L.popup({\n  &quot;maxWidth&quot;: &quot;100%&quot;,\n});\n\n        \n            \n                var html_f2377fa68ea7b472cc45390cf1f40835 = $(`&lt;div id=&quot;html_f2377fa68ea7b472cc45390cf1f40835&quot; style=&quot;width: 100.0%; height: 100.0%;&quot;&gt;NASA Johnson Space Center&lt;/div&gt;`)[0];\n                popup_894685e5a413a3024f1d608eea6d24e5.setContent(html_f2377fa68ea7b472cc45390cf1f40835);\n            \n        \n\n        circle_7369800da2b670946c8bd002d9cae49e.bindPopup(popup_894685e5a413a3024f1d608eea6d24e5)\n        ;\n\n        \n    \n    \n            var marker_646749a3f316612c85903930adbd9177 = L.marker(\n                [29.559684888503615, -95.0830971930759],\n                {\n}\n            ).addTo(map_b463d13e495ebf06b30bca0367b1bb2b);\n        \n    \n            var div_icon_b4c7221ca3277ccc9ddaec75fb29972f = L.divIcon({\n  &quot;html&quot;: &quot;\\u003cdiv style=\\&quot;font-size: 12; color:#d35400;\\&quot;\\u003e\\u003cb\\u003eNASA JSC\\u003c/b\\u003e\\u003c/div\\u003e&quot;,\n  &quot;iconSize&quot;: [20, 20],\n  &quot;iconAnchor&quot;: [0, 0],\n  &quot;className&quot;: &quot;empty&quot;,\n});\n        \n    \n                marker_646749a3f316612c85903930adbd9177.setIcon(div_icon_b4c7221ca3277ccc9ddaec75fb29972f);\n            \n&lt;/script&gt;\n&lt;/html&gt;\" style=\"position:absolute;width:100%;height:100%;left:0;top:0;border:none !important;\" allowfullscreen webkitallowfullscreen mozallowfullscreen></iframe></div></div>"
          },
          "metadata": {}
        }
      ],
      "execution_count": 7
    },
    {
      "cell_type": "markdown",
      "source": "and you should find a small yellow circle near the city of Houston and you can zoom-in to see a larger circle.\n",
      "metadata": {}
    },
    {
      "cell_type": "markdown",
      "source": "Now, let's add a circle for each launch site in data frame `launch_sites`\n",
      "metadata": {}
    },
    {
      "cell_type": "markdown",
      "source": "*TODO:*  Create and add `folium.Circle` and `folium.Marker` for each launch site on the site map\n",
      "metadata": {}
    },
    {
      "cell_type": "markdown",
      "source": "An example of folium.Circle:\n",
      "metadata": {}
    },
    {
      "cell_type": "markdown",
      "source": "`folium.Circle(coordinate, radius=1000, color='#000000', fill=True).add_child(folium.Popup(...))`\n",
      "metadata": {}
    },
    {
      "cell_type": "markdown",
      "source": "An example of folium.Marker:\n",
      "metadata": {}
    },
    {
      "cell_type": "markdown",
      "source": "`folium.map.Marker(coordinate, icon=DivIcon(icon_size=(20,20),icon_anchor=(0,0), html='<div style=\"font-size: 12; color:#d35400;\"><b>%s</b></div>' % 'label', ))`\n",
      "metadata": {}
    },
    {
      "cell_type": "code",
      "source": "# Initial the map\nsite_map = folium.Map(location=nasa_coordinate, zoom_start=5)\n# For each launch site, add a Circle object based on its coordinate (Lat, Long) values. In addition, add Launch site name as a popup label\n",
      "metadata": {
        "trusted": true
      },
      "outputs": [],
      "execution_count": 8
    },
    {
      "cell_type": "markdown",
      "source": "The generated map with marked launch sites should look similar to the following:\n",
      "metadata": {}
    },
    {
      "cell_type": "markdown",
      "source": "<center>\n    <img src=\"https://cf-courses-data.s3.us.cloud-object-storage.appdomain.cloud/IBM-DS0321EN-SkillsNetwork/labs/module_3/images/launch_site_markers.png\">\n</center>\n",
      "metadata": {}
    },
    {
      "cell_type": "markdown",
      "source": "Now, you can explore the map by zoom-in/out the marked areas\n, and try to answer the following questions:\n\n*   Are all launch sites in proximity to the Equator line?\n*   Are all launch sites in very close proximity to the coast?\n\nAlso please try to explain your findings.\n",
      "metadata": {}
    },
    {
      "cell_type": "code",
      "source": "# Task 2: Mark the success/failed launches for each site on the map\n",
      "metadata": {
        "trusted": true
      },
      "outputs": [],
      "execution_count": 9
    },
    {
      "cell_type": "markdown",
      "source": "Next, let's try to enhance the map by adding the launch outcomes for each site, and see which sites have high success rates.\nRecall that data frame spacex_df has detailed launch records, and the `class` column indicates if this launch was successful or not\n",
      "metadata": {}
    },
    {
      "cell_type": "code",
      "source": "spacex_df.tail(10)",
      "metadata": {
        "trusted": true
      },
      "outputs": [
        {
          "execution_count": 10,
          "output_type": "execute_result",
          "data": {
            "text/plain": "     Launch Site        Lat       Long  class\n46    KSC LC-39A  28.573255 -80.646895      1\n47    KSC LC-39A  28.573255 -80.646895      1\n48    KSC LC-39A  28.573255 -80.646895      1\n49  CCAFS SLC-40  28.563197 -80.576820      1\n50  CCAFS SLC-40  28.563197 -80.576820      1\n51  CCAFS SLC-40  28.563197 -80.576820      0\n52  CCAFS SLC-40  28.563197 -80.576820      0\n53  CCAFS SLC-40  28.563197 -80.576820      0\n54  CCAFS SLC-40  28.563197 -80.576820      1\n55  CCAFS SLC-40  28.563197 -80.576820      0",
            "text/html": "<div>\n<style scoped>\n    .dataframe tbody tr th:only-of-type {\n        vertical-align: middle;\n    }\n\n    .dataframe tbody tr th {\n        vertical-align: top;\n    }\n\n    .dataframe thead th {\n        text-align: right;\n    }\n</style>\n<table border=\"1\" class=\"dataframe\">\n  <thead>\n    <tr style=\"text-align: right;\">\n      <th></th>\n      <th>Launch Site</th>\n      <th>Lat</th>\n      <th>Long</th>\n      <th>class</th>\n    </tr>\n  </thead>\n  <tbody>\n    <tr>\n      <th>46</th>\n      <td>KSC LC-39A</td>\n      <td>28.573255</td>\n      <td>-80.646895</td>\n      <td>1</td>\n    </tr>\n    <tr>\n      <th>47</th>\n      <td>KSC LC-39A</td>\n      <td>28.573255</td>\n      <td>-80.646895</td>\n      <td>1</td>\n    </tr>\n    <tr>\n      <th>48</th>\n      <td>KSC LC-39A</td>\n      <td>28.573255</td>\n      <td>-80.646895</td>\n      <td>1</td>\n    </tr>\n    <tr>\n      <th>49</th>\n      <td>CCAFS SLC-40</td>\n      <td>28.563197</td>\n      <td>-80.576820</td>\n      <td>1</td>\n    </tr>\n    <tr>\n      <th>50</th>\n      <td>CCAFS SLC-40</td>\n      <td>28.563197</td>\n      <td>-80.576820</td>\n      <td>1</td>\n    </tr>\n    <tr>\n      <th>51</th>\n      <td>CCAFS SLC-40</td>\n      <td>28.563197</td>\n      <td>-80.576820</td>\n      <td>0</td>\n    </tr>\n    <tr>\n      <th>52</th>\n      <td>CCAFS SLC-40</td>\n      <td>28.563197</td>\n      <td>-80.576820</td>\n      <td>0</td>\n    </tr>\n    <tr>\n      <th>53</th>\n      <td>CCAFS SLC-40</td>\n      <td>28.563197</td>\n      <td>-80.576820</td>\n      <td>0</td>\n    </tr>\n    <tr>\n      <th>54</th>\n      <td>CCAFS SLC-40</td>\n      <td>28.563197</td>\n      <td>-80.576820</td>\n      <td>1</td>\n    </tr>\n    <tr>\n      <th>55</th>\n      <td>CCAFS SLC-40</td>\n      <td>28.563197</td>\n      <td>-80.576820</td>\n      <td>0</td>\n    </tr>\n  </tbody>\n</table>\n</div>"
          },
          "metadata": {}
        }
      ],
      "execution_count": 10
    },
    {
      "cell_type": "markdown",
      "source": "Next, let's create markers for all launch records.\nIf a launch was successful `(class=1)`, then we use a green marker and if a launch was failed, we use a red marker `(class=0)`\n",
      "metadata": {}
    },
    {
      "cell_type": "markdown",
      "source": "Note that a launch only happens in one of the four launch sites, which means many launch records will have the exact same coordinate. Marker clusters can be a good way to simplify a map containing many markers having the same coordinate.\n",
      "metadata": {}
    },
    {
      "cell_type": "markdown",
      "source": "Let's first create a `MarkerCluster` object\n",
      "metadata": {}
    },
    {
      "cell_type": "code",
      "source": "marker_cluster = MarkerCluster()\n",
      "metadata": {
        "trusted": true
      },
      "outputs": [],
      "execution_count": 11
    },
    {
      "cell_type": "markdown",
      "source": "*TODO:* Create a new column in `spacex_df` dataframe called `marker_color` to store the marker colors based on the `class` value\n",
      "metadata": {}
    },
    {
      "cell_type": "code",
      "source": "# Apply a function to check the value of `class` column\n# If class=1, marker_color value will be green\n# If class=0, marker_color value will be red\n\ndef assign_marker_color(launch_outcome):\n    if launch_outcome == 1:\n        return 'green'\n    else:\n        return 'red'\n\nspacex_df['marker_color'] = spacex_df['class'].apply(assign_marker_color)",
      "metadata": {
        "trusted": true
      },
      "outputs": [],
      "execution_count": 12
    },
    {
      "cell_type": "markdown",
      "source": "*TODO:* For each launch result in `spacex_df` data frame, add a `folium.Marker` to `marker_cluster`\n",
      "metadata": {}
    },
    {
      "cell_type": "code",
      "source": "# Add marker_cluster to current site_map\nsite_map.add_child(marker_cluster)\n\n# for each row in spacex_df data frame\n# create a Marker object with its coordinate\n# and customize the Marker's icon property to indicate if this launch was successed or failed, \n# e.g., icon=folium.Icon(color='white', icon_color=row['marker_color']\nfor index, record in spacex_df.iterrows():\n    # TODO: Create and add a Marker cluster to the site map\n    # marker = folium.Marker(...)\n    marker = folium.Marker(location = [record['Lat'], record['Long']], icon_color = record['marker_color'])\n    marker_cluster.add_child(marker)\n\nsite_map",
      "metadata": {
        "trusted": true
      },
      "outputs": [
        {
          "execution_count": 14,
          "output_type": "execute_result",
          "data": {
            "text/plain": "<folium.folium.Map at 0x5b3de48>",
            "text/html": "<div style=\"width:100%;\"><div style=\"position:relative;width:100%;height:0;padding-bottom:60%;\"><span style=\"color:#565656\">Make this Notebook Trusted to load map: File -> Trust Notebook</span><iframe srcdoc=\"&lt;!DOCTYPE html&gt;\n&lt;html&gt;\n&lt;head&gt;\n    \n    &lt;meta http-equiv=&quot;content-type&quot; content=&quot;text/html; charset=UTF-8&quot; /&gt;\n    &lt;script src=&quot;https://cdn.jsdelivr.net/npm/leaflet@1.9.3/dist/leaflet.js&quot;&gt;&lt;/script&gt;\n    &lt;script src=&quot;https://code.jquery.com/jquery-3.7.1.min.js&quot;&gt;&lt;/script&gt;\n    &lt;script src=&quot;https://cdn.jsdelivr.net/npm/bootstrap@5.2.2/dist/js/bootstrap.bundle.min.js&quot;&gt;&lt;/script&gt;\n    &lt;script src=&quot;https://cdnjs.cloudflare.com/ajax/libs/Leaflet.awesome-markers/2.0.2/leaflet.awesome-markers.js&quot;&gt;&lt;/script&gt;\n    &lt;link rel=&quot;stylesheet&quot; href=&quot;https://cdn.jsdelivr.net/npm/leaflet@1.9.3/dist/leaflet.css&quot;/&gt;\n    &lt;link rel=&quot;stylesheet&quot; href=&quot;https://cdn.jsdelivr.net/npm/bootstrap@5.2.2/dist/css/bootstrap.min.css&quot;/&gt;\n    &lt;link rel=&quot;stylesheet&quot; href=&quot;https://netdna.bootstrapcdn.com/bootstrap/3.0.0/css/bootstrap-glyphicons.css&quot;/&gt;\n    &lt;link rel=&quot;stylesheet&quot; href=&quot;https://cdn.jsdelivr.net/npm/@fortawesome/fontawesome-free@6.2.0/css/all.min.css&quot;/&gt;\n    &lt;link rel=&quot;stylesheet&quot; href=&quot;https://cdnjs.cloudflare.com/ajax/libs/Leaflet.awesome-markers/2.0.2/leaflet.awesome-markers.css&quot;/&gt;\n    &lt;link rel=&quot;stylesheet&quot; href=&quot;https://cdn.jsdelivr.net/gh/python-visualization/folium/folium/templates/leaflet.awesome.rotate.min.css&quot;/&gt;\n    \n            &lt;meta name=&quot;viewport&quot; content=&quot;width=device-width,\n                initial-scale=1.0, maximum-scale=1.0, user-scalable=no&quot; /&gt;\n            &lt;style&gt;\n                #map_37da422306de58328c9e44f62866bb08 {\n                    position: relative;\n                    width: 100.0%;\n                    height: 100.0%;\n                    left: 0.0%;\n                    top: 0.0%;\n                }\n                .leaflet-container { font-size: 1rem; }\n            &lt;/style&gt;\n\n            &lt;style&gt;html, body {\n                width: 100%;\n                height: 100%;\n                margin: 0;\n                padding: 0;\n            }\n            &lt;/style&gt;\n\n            &lt;style&gt;#map {\n                position:absolute;\n                top:0;\n                bottom:0;\n                right:0;\n                left:0;\n                }\n            &lt;/style&gt;\n\n            &lt;script&gt;\n                L_NO_TOUCH = false;\n                L_DISABLE_3D = false;\n            &lt;/script&gt;\n\n        \n    &lt;script src=&quot;https://cdnjs.cloudflare.com/ajax/libs/leaflet.markercluster/1.1.0/leaflet.markercluster.js&quot;&gt;&lt;/script&gt;\n    &lt;link rel=&quot;stylesheet&quot; href=&quot;https://cdnjs.cloudflare.com/ajax/libs/leaflet.markercluster/1.1.0/MarkerCluster.css&quot;/&gt;\n    &lt;link rel=&quot;stylesheet&quot; href=&quot;https://cdnjs.cloudflare.com/ajax/libs/leaflet.markercluster/1.1.0/MarkerCluster.Default.css&quot;/&gt;\n&lt;/head&gt;\n&lt;body&gt;\n    \n    \n            &lt;div class=&quot;folium-map&quot; id=&quot;map_37da422306de58328c9e44f62866bb08&quot; &gt;&lt;/div&gt;\n        \n&lt;/body&gt;\n&lt;script&gt;\n    \n    \n            var map_37da422306de58328c9e44f62866bb08 = L.map(\n                &quot;map_37da422306de58328c9e44f62866bb08&quot;,\n                {\n                    center: [29.559684888503615, -95.0830971930759],\n                    crs: L.CRS.EPSG3857,\n                    ...{\n  &quot;zoom&quot;: 5,\n  &quot;zoomControl&quot;: true,\n  &quot;preferCanvas&quot;: false,\n}\n\n                }\n            );\n\n            \n\n        \n    \n            var tile_layer_e9a5c64d80cb96647d56720bb93153bc = L.tileLayer(\n                &quot;https://tile.openstreetmap.org/{z}/{x}/{y}.png&quot;,\n                {\n  &quot;minZoom&quot;: 0,\n  &quot;maxZoom&quot;: 19,\n  &quot;maxNativeZoom&quot;: 19,\n  &quot;noWrap&quot;: false,\n  &quot;attribution&quot;: &quot;\\u0026copy; \\u003ca href=\\&quot;https://www.openstreetmap.org/copyright\\&quot;\\u003eOpenStreetMap\\u003c/a\\u003e contributors&quot;,\n  &quot;subdomains&quot;: &quot;abc&quot;,\n  &quot;detectRetina&quot;: false,\n  &quot;tms&quot;: false,\n  &quot;opacity&quot;: 1,\n}\n\n            );\n        \n    \n            tile_layer_e9a5c64d80cb96647d56720bb93153bc.addTo(map_37da422306de58328c9e44f62866bb08);\n        \n    \n            var marker_cluster_5d8c85dcd643359a57b89793ce0eb691 = L.markerClusterGroup(\n                {\n}\n            );\n        \n    \n            var marker_646749a3f316612c85903930adbd9177 = L.marker(\n                [29.559684888503615, -95.0830971930759],\n                {\n}\n            ).addTo(marker_cluster_5d8c85dcd643359a57b89793ce0eb691);\n        \n    \n            var div_icon_b4c7221ca3277ccc9ddaec75fb29972f = L.divIcon({\n  &quot;html&quot;: &quot;\\u003cdiv style=\\&quot;font-size: 12; color:#d35400;\\&quot;\\u003e\\u003cb\\u003eNASA JSC\\u003c/b\\u003e\\u003c/div\\u003e&quot;,\n  &quot;iconSize&quot;: [20, 20],\n  &quot;iconAnchor&quot;: [0, 0],\n  &quot;className&quot;: &quot;empty&quot;,\n});\n        \n    \n                marker_646749a3f316612c85903930adbd9177.setIcon(div_icon_b4c7221ca3277ccc9ddaec75fb29972f);\n            \n    \n                marker_646749a3f316612c85903930adbd9177.setIcon(div_icon_b4c7221ca3277ccc9ddaec75fb29972f);\n            \n    \n            marker_cluster_5d8c85dcd643359a57b89793ce0eb691.addTo(map_37da422306de58328c9e44f62866bb08);\n        \n    \n            tile_layer_e9a5c64d80cb96647d56720bb93153bc.addTo(map_37da422306de58328c9e44f62866bb08);\n        \n    \n                marker_646749a3f316612c85903930adbd9177.setIcon(div_icon_b4c7221ca3277ccc9ddaec75fb29972f);\n            \n    \n            marker_cluster_5d8c85dcd643359a57b89793ce0eb691.addTo(map_37da422306de58328c9e44f62866bb08);\n        \n    \n            var marker_c3daa283d41b1390b009f5c9ab4b05d3 = L.marker(\n                [28.56230197, -80.57735648],\n                {\n  &quot;iconColor&quot;: &quot;red&quot;,\n}\n            ).addTo(marker_cluster_5d8c85dcd643359a57b89793ce0eb691);\n        \n    \n            var marker_2a14ef66285bf8aca9c5b5331e974a72 = L.marker(\n                [28.56230197, -80.57735648],\n                {\n  &quot;iconColor&quot;: &quot;red&quot;,\n}\n            ).addTo(marker_cluster_5d8c85dcd643359a57b89793ce0eb691);\n        \n    \n            var marker_236dbf227f0b4836f7aabcb628322f17 = L.marker(\n                [28.56230197, -80.57735648],\n                {\n  &quot;iconColor&quot;: &quot;red&quot;,\n}\n            ).addTo(marker_cluster_5d8c85dcd643359a57b89793ce0eb691);\n        \n    \n            var marker_93172539affe6f8a6d35286cd9c84433 = L.marker(\n                [28.56230197, -80.57735648],\n                {\n  &quot;iconColor&quot;: &quot;red&quot;,\n}\n            ).addTo(marker_cluster_5d8c85dcd643359a57b89793ce0eb691);\n        \n    \n            var marker_ae6fbfc9a4ad0665abe00ceb3b4fed68 = L.marker(\n                [28.56230197, -80.57735648],\n                {\n  &quot;iconColor&quot;: &quot;red&quot;,\n}\n            ).addTo(marker_cluster_5d8c85dcd643359a57b89793ce0eb691);\n        \n    \n            var marker_de3446d6f34269928fb476004ffed028 = L.marker(\n                [28.56230197, -80.57735648],\n                {\n  &quot;iconColor&quot;: &quot;red&quot;,\n}\n            ).addTo(marker_cluster_5d8c85dcd643359a57b89793ce0eb691);\n        \n    \n            var marker_571679e88ca449960467f0beee59f3a2 = L.marker(\n                [28.56230197, -80.57735648],\n                {\n  &quot;iconColor&quot;: &quot;red&quot;,\n}\n            ).addTo(marker_cluster_5d8c85dcd643359a57b89793ce0eb691);\n        \n    \n            var marker_51dc51613b31696e3f08b5b8da89fff9 = L.marker(\n                [28.56230197, -80.57735648],\n                {\n  &quot;iconColor&quot;: &quot;red&quot;,\n}\n            ).addTo(marker_cluster_5d8c85dcd643359a57b89793ce0eb691);\n        \n    \n            var marker_97c2fd213bc27ecba818b10007874d2f = L.marker(\n                [28.56230197, -80.57735648],\n                {\n  &quot;iconColor&quot;: &quot;red&quot;,\n}\n            ).addTo(marker_cluster_5d8c85dcd643359a57b89793ce0eb691);\n        \n    \n            var marker_c85797372fa56e25f3c78106fe2e9743 = L.marker(\n                [28.56230197, -80.57735648],\n                {\n  &quot;iconColor&quot;: &quot;red&quot;,\n}\n            ).addTo(marker_cluster_5d8c85dcd643359a57b89793ce0eb691);\n        \n    \n            var marker_7f4a449a5e7886f061866e9d92d75df0 = L.marker(\n                [28.56230197, -80.57735648],\n                {\n  &quot;iconColor&quot;: &quot;red&quot;,\n}\n            ).addTo(marker_cluster_5d8c85dcd643359a57b89793ce0eb691);\n        \n    \n            var marker_371845f7e16492dbb8f9eecb37ccbee8 = L.marker(\n                [28.56230197, -80.57735648],\n                {\n  &quot;iconColor&quot;: &quot;red&quot;,\n}\n            ).addTo(marker_cluster_5d8c85dcd643359a57b89793ce0eb691);\n        \n    \n            var marker_48e1b43819f4ee41479a1405d1539be8 = L.marker(\n                [28.56230197, -80.57735648],\n                {\n  &quot;iconColor&quot;: &quot;red&quot;,\n}\n            ).addTo(marker_cluster_5d8c85dcd643359a57b89793ce0eb691);\n        \n    \n            var marker_a69c6078bfb38fb79caa201126dbf7fa = L.marker(\n                [28.56230197, -80.57735648],\n                {\n  &quot;iconColor&quot;: &quot;red&quot;,\n}\n            ).addTo(marker_cluster_5d8c85dcd643359a57b89793ce0eb691);\n        \n    \n            var marker_d9953386fd410d9a21b1111ac8b1c5e7 = L.marker(\n                [28.56230197, -80.57735648],\n                {\n  &quot;iconColor&quot;: &quot;red&quot;,\n}\n            ).addTo(marker_cluster_5d8c85dcd643359a57b89793ce0eb691);\n        \n    \n            var marker_a09c2cbc7acd9c26b39ab9750cdc69cc = L.marker(\n                [28.56230197, -80.57735648],\n                {\n  &quot;iconColor&quot;: &quot;red&quot;,\n}\n            ).addTo(marker_cluster_5d8c85dcd643359a57b89793ce0eb691);\n        \n    \n            var marker_090ccea44b8badf0ce7aa4a5353a4442 = L.marker(\n                [28.56230197, -80.57735648],\n                {\n  &quot;iconColor&quot;: &quot;red&quot;,\n}\n            ).addTo(marker_cluster_5d8c85dcd643359a57b89793ce0eb691);\n        \n    \n            var marker_c79e8f7a82e77fa87436de623dad7bd2 = L.marker(\n                [28.56230197, -80.57735648],\n                {\n  &quot;iconColor&quot;: &quot;green&quot;,\n}\n            ).addTo(marker_cluster_5d8c85dcd643359a57b89793ce0eb691);\n        \n    \n            var marker_6b5f3f48cd8f961dc8e8a8debf90efbd = L.marker(\n                [28.56230197, -80.57735648],\n                {\n  &quot;iconColor&quot;: &quot;green&quot;,\n}\n            ).addTo(marker_cluster_5d8c85dcd643359a57b89793ce0eb691);\n        \n    \n            var marker_3b97d757aecf5c2c5b8e977d3360116f = L.marker(\n                [28.56230197, -80.57735648],\n                {\n  &quot;iconColor&quot;: &quot;red&quot;,\n}\n            ).addTo(marker_cluster_5d8c85dcd643359a57b89793ce0eb691);\n        \n    \n            var marker_51b7b24323776b9d261c6241e31eeab4 = L.marker(\n                [28.56230197, -80.57735648],\n                {\n  &quot;iconColor&quot;: &quot;green&quot;,\n}\n            ).addTo(marker_cluster_5d8c85dcd643359a57b89793ce0eb691);\n        \n    \n            var marker_a52bdc49335e0a874343b7cce8a19622 = L.marker(\n                [28.56230197, -80.57735648],\n                {\n  &quot;iconColor&quot;: &quot;green&quot;,\n}\n            ).addTo(marker_cluster_5d8c85dcd643359a57b89793ce0eb691);\n        \n    \n            var marker_fe27a77e9afb7f82ca2c899c586712ff = L.marker(\n                [28.56230197, -80.57735648],\n                {\n  &quot;iconColor&quot;: &quot;green&quot;,\n}\n            ).addTo(marker_cluster_5d8c85dcd643359a57b89793ce0eb691);\n        \n    \n            var marker_f9a006365f7fa0177fdd9378cf97a9b1 = L.marker(\n                [28.56230197, -80.57735648],\n                {\n  &quot;iconColor&quot;: &quot;red&quot;,\n}\n            ).addTo(marker_cluster_5d8c85dcd643359a57b89793ce0eb691);\n        \n    \n            var marker_6facac37734edd43ea49c7bc6d6569ed = L.marker(\n                [28.56230197, -80.57735648],\n                {\n  &quot;iconColor&quot;: &quot;green&quot;,\n}\n            ).addTo(marker_cluster_5d8c85dcd643359a57b89793ce0eb691);\n        \n    \n            var marker_31ad4b1de1610fea5db61750cbdceaba = L.marker(\n                [28.56230197, -80.57735648],\n                {\n  &quot;iconColor&quot;: &quot;green&quot;,\n}\n            ).addTo(marker_cluster_5d8c85dcd643359a57b89793ce0eb691);\n        \n    \n            var marker_e0721828e285543784bcb67f9ef169e5 = L.marker(\n                [34.63283416, -120.6107455],\n                {\n  &quot;iconColor&quot;: &quot;red&quot;,\n}\n            ).addTo(marker_cluster_5d8c85dcd643359a57b89793ce0eb691);\n        \n    \n            var marker_914bb93e32f62400d53c990e49c71ee4 = L.marker(\n                [34.63283416, -120.6107455],\n                {\n  &quot;iconColor&quot;: &quot;red&quot;,\n}\n            ).addTo(marker_cluster_5d8c85dcd643359a57b89793ce0eb691);\n        \n    \n            var marker_bbc869b8aa74ffe6e9cd537a9447e20a = L.marker(\n                [34.63283416, -120.6107455],\n                {\n  &quot;iconColor&quot;: &quot;green&quot;,\n}\n            ).addTo(marker_cluster_5d8c85dcd643359a57b89793ce0eb691);\n        \n    \n            var marker_cb5904045ff2ba13eb01c2760607f29a = L.marker(\n                [34.63283416, -120.6107455],\n                {\n  &quot;iconColor&quot;: &quot;green&quot;,\n}\n            ).addTo(marker_cluster_5d8c85dcd643359a57b89793ce0eb691);\n        \n    \n            var marker_65d9d7208d03bcb4b9d99cc5d4d4b7c2 = L.marker(\n                [34.63283416, -120.6107455],\n                {\n  &quot;iconColor&quot;: &quot;green&quot;,\n}\n            ).addTo(marker_cluster_5d8c85dcd643359a57b89793ce0eb691);\n        \n    \n            var marker_b9c0e564feb944172664bf123a105929 = L.marker(\n                [34.63283416, -120.6107455],\n                {\n  &quot;iconColor&quot;: &quot;green&quot;,\n}\n            ).addTo(marker_cluster_5d8c85dcd643359a57b89793ce0eb691);\n        \n    \n            var marker_4f841f89675b7e7bb657889fb17d346a = L.marker(\n                [34.63283416, -120.6107455],\n                {\n  &quot;iconColor&quot;: &quot;red&quot;,\n}\n            ).addTo(marker_cluster_5d8c85dcd643359a57b89793ce0eb691);\n        \n    \n            var marker_a893958feaf1c61ffadccc8b513ceb96 = L.marker(\n                [34.63283416, -120.6107455],\n                {\n  &quot;iconColor&quot;: &quot;red&quot;,\n}\n            ).addTo(marker_cluster_5d8c85dcd643359a57b89793ce0eb691);\n        \n    \n            var marker_8baf40e7f72a12027a0bb086cf7d6579 = L.marker(\n                [34.63283416, -120.6107455],\n                {\n  &quot;iconColor&quot;: &quot;red&quot;,\n}\n            ).addTo(marker_cluster_5d8c85dcd643359a57b89793ce0eb691);\n        \n    \n            var marker_543d33737b938efdd10a6e5429b6f945 = L.marker(\n                [34.63283416, -120.6107455],\n                {\n  &quot;iconColor&quot;: &quot;red&quot;,\n}\n            ).addTo(marker_cluster_5d8c85dcd643359a57b89793ce0eb691);\n        \n    \n            var marker_9b798806e0b2fc7b045a2fb1dbc7ecb5 = L.marker(\n                [28.57325457, -80.64689529],\n                {\n  &quot;iconColor&quot;: &quot;green&quot;,\n}\n            ).addTo(marker_cluster_5d8c85dcd643359a57b89793ce0eb691);\n        \n    \n            var marker_390f7999a5557a35f277bbaf720ada1b = L.marker(\n                [28.57325457, -80.64689529],\n                {\n  &quot;iconColor&quot;: &quot;red&quot;,\n}\n            ).addTo(marker_cluster_5d8c85dcd643359a57b89793ce0eb691);\n        \n    \n            var marker_9873414f584cb9125d9f3aaf56159f0e = L.marker(\n                [28.57325457, -80.64689529],\n                {\n  &quot;iconColor&quot;: &quot;green&quot;,\n}\n            ).addTo(marker_cluster_5d8c85dcd643359a57b89793ce0eb691);\n        \n    \n            var marker_81adc591f50ef13649e95fd42ae35ef3 = L.marker(\n                [28.57325457, -80.64689529],\n                {\n  &quot;iconColor&quot;: &quot;green&quot;,\n}\n            ).addTo(marker_cluster_5d8c85dcd643359a57b89793ce0eb691);\n        \n    \n            var marker_95ff804d7ccb13c8878d42a9310944f2 = L.marker(\n                [28.57325457, -80.64689529],\n                {\n  &quot;iconColor&quot;: &quot;red&quot;,\n}\n            ).addTo(marker_cluster_5d8c85dcd643359a57b89793ce0eb691);\n        \n    \n            var marker_656da43d17ae0397097671791d6f1ed6 = L.marker(\n                [28.57325457, -80.64689529],\n                {\n  &quot;iconColor&quot;: &quot;green&quot;,\n}\n            ).addTo(marker_cluster_5d8c85dcd643359a57b89793ce0eb691);\n        \n    \n            var marker_74aa2ee86ae5ec75be0ec73cfcdc79e0 = L.marker(\n                [28.57325457, -80.64689529],\n                {\n  &quot;iconColor&quot;: &quot;green&quot;,\n}\n            ).addTo(marker_cluster_5d8c85dcd643359a57b89793ce0eb691);\n        \n    \n            var marker_85de2eef802b7a2dccb0944fa3e51a0e = L.marker(\n                [28.57325457, -80.64689529],\n                {\n  &quot;iconColor&quot;: &quot;red&quot;,\n}\n            ).addTo(marker_cluster_5d8c85dcd643359a57b89793ce0eb691);\n        \n    \n            var marker_a349b999dd5ec48893bec54144829f8f = L.marker(\n                [28.57325457, -80.64689529],\n                {\n  &quot;iconColor&quot;: &quot;green&quot;,\n}\n            ).addTo(marker_cluster_5d8c85dcd643359a57b89793ce0eb691);\n        \n    \n            var marker_6f55ad2fa5379c8ae35bf92b23f32fb3 = L.marker(\n                [28.57325457, -80.64689529],\n                {\n  &quot;iconColor&quot;: &quot;green&quot;,\n}\n            ).addTo(marker_cluster_5d8c85dcd643359a57b89793ce0eb691);\n        \n    \n            var marker_5dd811826bb7f672bb8c314c34b40d49 = L.marker(\n                [28.57325457, -80.64689529],\n                {\n  &quot;iconColor&quot;: &quot;green&quot;,\n}\n            ).addTo(marker_cluster_5d8c85dcd643359a57b89793ce0eb691);\n        \n    \n            var marker_f4121de559d116f2b50b4beb0f57fb5a = L.marker(\n                [28.57325457, -80.64689529],\n                {\n  &quot;iconColor&quot;: &quot;green&quot;,\n}\n            ).addTo(marker_cluster_5d8c85dcd643359a57b89793ce0eb691);\n        \n    \n            var marker_8da14b0214b3d9913ad8e6dc29753a59 = L.marker(\n                [28.57325457, -80.64689529],\n                {\n  &quot;iconColor&quot;: &quot;green&quot;,\n}\n            ).addTo(marker_cluster_5d8c85dcd643359a57b89793ce0eb691);\n        \n    \n            var marker_a26a091370a8899bd0799d9384f99101 = L.marker(\n                [28.56319718, -80.57682003],\n                {\n  &quot;iconColor&quot;: &quot;green&quot;,\n}\n            ).addTo(marker_cluster_5d8c85dcd643359a57b89793ce0eb691);\n        \n    \n            var marker_f8056d953e94c0b54bc3bd24a42bcf80 = L.marker(\n                [28.56319718, -80.57682003],\n                {\n  &quot;iconColor&quot;: &quot;green&quot;,\n}\n            ).addTo(marker_cluster_5d8c85dcd643359a57b89793ce0eb691);\n        \n    \n            var marker_0bcb421a384308161f5312fb8653b7b0 = L.marker(\n                [28.56319718, -80.57682003],\n                {\n  &quot;iconColor&quot;: &quot;red&quot;,\n}\n            ).addTo(marker_cluster_5d8c85dcd643359a57b89793ce0eb691);\n        \n    \n            var marker_01a3c436b790895525de7e65a0fe9aac = L.marker(\n                [28.56319718, -80.57682003],\n                {\n  &quot;iconColor&quot;: &quot;red&quot;,\n}\n            ).addTo(marker_cluster_5d8c85dcd643359a57b89793ce0eb691);\n        \n    \n            var marker_2c853300272088ac63af65af1084667e = L.marker(\n                [28.56319718, -80.57682003],\n                {\n  &quot;iconColor&quot;: &quot;red&quot;,\n}\n            ).addTo(marker_cluster_5d8c85dcd643359a57b89793ce0eb691);\n        \n    \n            var marker_3b3423000ac59e69852def2dc3d93f20 = L.marker(\n                [28.56319718, -80.57682003],\n                {\n  &quot;iconColor&quot;: &quot;green&quot;,\n}\n            ).addTo(marker_cluster_5d8c85dcd643359a57b89793ce0eb691);\n        \n    \n            var marker_aeb42a537efdb1a3f2a834236ad794ab = L.marker(\n                [28.56319718, -80.57682003],\n                {\n  &quot;iconColor&quot;: &quot;red&quot;,\n}\n            ).addTo(marker_cluster_5d8c85dcd643359a57b89793ce0eb691);\n        \n&lt;/script&gt;\n&lt;/html&gt;\" style=\"position:absolute;width:100%;height:100%;left:0;top:0;border:none !important;\" allowfullscreen webkitallowfullscreen mozallowfullscreen></iframe></div></div>"
          },
          "metadata": {}
        }
      ],
      "execution_count": 14
    },
    {
      "cell_type": "markdown",
      "source": "Your updated map may look like the following screenshots:\n",
      "metadata": {}
    },
    {
      "cell_type": "markdown",
      "source": "<center>\n    <img src=\"https://cf-courses-data.s3.us.cloud-object-storage.appdomain.cloud/IBM-DS0321EN-SkillsNetwork/labs/module_3/images/launch_site_marker_cluster.png\">\n</center>\n",
      "metadata": {}
    },
    {
      "cell_type": "markdown",
      "source": "<center>\n    <img src=\"https://cf-courses-data.s3.us.cloud-object-storage.appdomain.cloud/IBM-DS0321EN-SkillsNetwork/labs/module_3/images/launch_site_marker_cluster_zoomed.png\">\n</center>\n",
      "metadata": {}
    },
    {
      "cell_type": "markdown",
      "source": "From the color-labeled markers in marker clusters, you should be able to easily identify which launch sites have relatively high success rates.\n",
      "metadata": {}
    },
    {
      "cell_type": "code",
      "source": "# TASK 3: Calculate the distances between a launch site to its proximities\n",
      "metadata": {},
      "outputs": [],
      "execution_count": null
    },
    {
      "cell_type": "markdown",
      "source": "Next, we need to explore and analyze the proximities of launch sites.\n",
      "metadata": {}
    },
    {
      "cell_type": "markdown",
      "source": "Let's first add a `MousePosition` on the map to get coordinate for a mouse over a point on the map. As such, while you are exploring the map, you can easily find the coordinates of any points of interests (such as railway)\n",
      "metadata": {}
    },
    {
      "cell_type": "code",
      "source": "# Add Mouse Position to get the coordinate (Lat, Long) for a mouse over on the map\nformatter = \"function(num) {return L.Util.formatNum(num, 5);};\"\nmouse_position = MousePosition(\n    position='topright',\n    separator=' Long: ',\n    empty_string='NaN',\n    lng_first=False,\n    num_digits=20,\n    prefix='Lat:',\n    lat_formatter=formatter,\n    lng_formatter=formatter,\n)\n\nsite_map.add_child(mouse_position)\nsite_map",
      "metadata": {
        "trusted": true
      },
      "outputs": [
        {
          "execution_count": 15,
          "output_type": "execute_result",
          "data": {
            "text/plain": "<folium.folium.Map at 0x5b3de48>",
            "text/html": "<div style=\"width:100%;\"><div style=\"position:relative;width:100%;height:0;padding-bottom:60%;\"><span style=\"color:#565656\">Make this Notebook Trusted to load map: File -> Trust Notebook</span><iframe srcdoc=\"&lt;!DOCTYPE html&gt;\n&lt;html&gt;\n&lt;head&gt;\n    \n    &lt;meta http-equiv=&quot;content-type&quot; content=&quot;text/html; charset=UTF-8&quot; /&gt;\n    &lt;script src=&quot;https://cdn.jsdelivr.net/npm/leaflet@1.9.3/dist/leaflet.js&quot;&gt;&lt;/script&gt;\n    &lt;script src=&quot;https://code.jquery.com/jquery-3.7.1.min.js&quot;&gt;&lt;/script&gt;\n    &lt;script src=&quot;https://cdn.jsdelivr.net/npm/bootstrap@5.2.2/dist/js/bootstrap.bundle.min.js&quot;&gt;&lt;/script&gt;\n    &lt;script src=&quot;https://cdnjs.cloudflare.com/ajax/libs/Leaflet.awesome-markers/2.0.2/leaflet.awesome-markers.js&quot;&gt;&lt;/script&gt;\n    &lt;link rel=&quot;stylesheet&quot; href=&quot;https://cdn.jsdelivr.net/npm/leaflet@1.9.3/dist/leaflet.css&quot;/&gt;\n    &lt;link rel=&quot;stylesheet&quot; href=&quot;https://cdn.jsdelivr.net/npm/bootstrap@5.2.2/dist/css/bootstrap.min.css&quot;/&gt;\n    &lt;link rel=&quot;stylesheet&quot; href=&quot;https://netdna.bootstrapcdn.com/bootstrap/3.0.0/css/bootstrap-glyphicons.css&quot;/&gt;\n    &lt;link rel=&quot;stylesheet&quot; href=&quot;https://cdn.jsdelivr.net/npm/@fortawesome/fontawesome-free@6.2.0/css/all.min.css&quot;/&gt;\n    &lt;link rel=&quot;stylesheet&quot; href=&quot;https://cdnjs.cloudflare.com/ajax/libs/Leaflet.awesome-markers/2.0.2/leaflet.awesome-markers.css&quot;/&gt;\n    &lt;link rel=&quot;stylesheet&quot; href=&quot;https://cdn.jsdelivr.net/gh/python-visualization/folium/folium/templates/leaflet.awesome.rotate.min.css&quot;/&gt;\n    \n            &lt;meta name=&quot;viewport&quot; content=&quot;width=device-width,\n                initial-scale=1.0, maximum-scale=1.0, user-scalable=no&quot; /&gt;\n            &lt;style&gt;\n                #map_37da422306de58328c9e44f62866bb08 {\n                    position: relative;\n                    width: 100.0%;\n                    height: 100.0%;\n                    left: 0.0%;\n                    top: 0.0%;\n                }\n                .leaflet-container { font-size: 1rem; }\n            &lt;/style&gt;\n\n            &lt;style&gt;html, body {\n                width: 100%;\n                height: 100%;\n                margin: 0;\n                padding: 0;\n            }\n            &lt;/style&gt;\n\n            &lt;style&gt;#map {\n                position:absolute;\n                top:0;\n                bottom:0;\n                right:0;\n                left:0;\n                }\n            &lt;/style&gt;\n\n            &lt;script&gt;\n                L_NO_TOUCH = false;\n                L_DISABLE_3D = false;\n            &lt;/script&gt;\n\n        \n    &lt;script src=&quot;https://cdnjs.cloudflare.com/ajax/libs/leaflet.markercluster/1.1.0/leaflet.markercluster.js&quot;&gt;&lt;/script&gt;\n    &lt;link rel=&quot;stylesheet&quot; href=&quot;https://cdnjs.cloudflare.com/ajax/libs/leaflet.markercluster/1.1.0/MarkerCluster.css&quot;/&gt;\n    &lt;link rel=&quot;stylesheet&quot; href=&quot;https://cdnjs.cloudflare.com/ajax/libs/leaflet.markercluster/1.1.0/MarkerCluster.Default.css&quot;/&gt;\n    &lt;script src=&quot;https://cdn.jsdelivr.net/gh/ardhi/Leaflet.MousePosition/src/L.Control.MousePosition.min.js&quot;&gt;&lt;/script&gt;\n    &lt;link rel=&quot;stylesheet&quot; href=&quot;https://cdn.jsdelivr.net/gh/ardhi/Leaflet.MousePosition/src/L.Control.MousePosition.min.css&quot;/&gt;\n&lt;/head&gt;\n&lt;body&gt;\n    \n    \n            &lt;div class=&quot;folium-map&quot; id=&quot;map_37da422306de58328c9e44f62866bb08&quot; &gt;&lt;/div&gt;\n        \n&lt;/body&gt;\n&lt;script&gt;\n    \n    \n            var map_37da422306de58328c9e44f62866bb08 = L.map(\n                &quot;map_37da422306de58328c9e44f62866bb08&quot;,\n                {\n                    center: [29.559684888503615, -95.0830971930759],\n                    crs: L.CRS.EPSG3857,\n                    ...{\n  &quot;zoom&quot;: 5,\n  &quot;zoomControl&quot;: true,\n  &quot;preferCanvas&quot;: false,\n}\n\n                }\n            );\n\n            \n\n        \n    \n            var tile_layer_e9a5c64d80cb96647d56720bb93153bc = L.tileLayer(\n                &quot;https://tile.openstreetmap.org/{z}/{x}/{y}.png&quot;,\n                {\n  &quot;minZoom&quot;: 0,\n  &quot;maxZoom&quot;: 19,\n  &quot;maxNativeZoom&quot;: 19,\n  &quot;noWrap&quot;: false,\n  &quot;attribution&quot;: &quot;\\u0026copy; \\u003ca href=\\&quot;https://www.openstreetmap.org/copyright\\&quot;\\u003eOpenStreetMap\\u003c/a\\u003e contributors&quot;,\n  &quot;subdomains&quot;: &quot;abc&quot;,\n  &quot;detectRetina&quot;: false,\n  &quot;tms&quot;: false,\n  &quot;opacity&quot;: 1,\n}\n\n            );\n        \n    \n            tile_layer_e9a5c64d80cb96647d56720bb93153bc.addTo(map_37da422306de58328c9e44f62866bb08);\n        \n    \n            var marker_cluster_5d8c85dcd643359a57b89793ce0eb691 = L.markerClusterGroup(\n                {\n}\n            );\n        \n    \n            var marker_646749a3f316612c85903930adbd9177 = L.marker(\n                [29.559684888503615, -95.0830971930759],\n                {\n}\n            ).addTo(marker_cluster_5d8c85dcd643359a57b89793ce0eb691);\n        \n    \n            var div_icon_b4c7221ca3277ccc9ddaec75fb29972f = L.divIcon({\n  &quot;html&quot;: &quot;\\u003cdiv style=\\&quot;font-size: 12; color:#d35400;\\&quot;\\u003e\\u003cb\\u003eNASA JSC\\u003c/b\\u003e\\u003c/div\\u003e&quot;,\n  &quot;iconSize&quot;: [20, 20],\n  &quot;iconAnchor&quot;: [0, 0],\n  &quot;className&quot;: &quot;empty&quot;,\n});\n        \n    \n                marker_646749a3f316612c85903930adbd9177.setIcon(div_icon_b4c7221ca3277ccc9ddaec75fb29972f);\n            \n    \n                marker_646749a3f316612c85903930adbd9177.setIcon(div_icon_b4c7221ca3277ccc9ddaec75fb29972f);\n            \n    \n            marker_cluster_5d8c85dcd643359a57b89793ce0eb691.addTo(map_37da422306de58328c9e44f62866bb08);\n        \n    \n            tile_layer_e9a5c64d80cb96647d56720bb93153bc.addTo(map_37da422306de58328c9e44f62866bb08);\n        \n    \n                marker_646749a3f316612c85903930adbd9177.setIcon(div_icon_b4c7221ca3277ccc9ddaec75fb29972f);\n            \n    \n            marker_cluster_5d8c85dcd643359a57b89793ce0eb691.addTo(map_37da422306de58328c9e44f62866bb08);\n        \n    \n            var marker_c3daa283d41b1390b009f5c9ab4b05d3 = L.marker(\n                [28.56230197, -80.57735648],\n                {\n  &quot;iconColor&quot;: &quot;red&quot;,\n}\n            ).addTo(marker_cluster_5d8c85dcd643359a57b89793ce0eb691);\n        \n    \n            var marker_2a14ef66285bf8aca9c5b5331e974a72 = L.marker(\n                [28.56230197, -80.57735648],\n                {\n  &quot;iconColor&quot;: &quot;red&quot;,\n}\n            ).addTo(marker_cluster_5d8c85dcd643359a57b89793ce0eb691);\n        \n    \n            var marker_236dbf227f0b4836f7aabcb628322f17 = L.marker(\n                [28.56230197, -80.57735648],\n                {\n  &quot;iconColor&quot;: &quot;red&quot;,\n}\n            ).addTo(marker_cluster_5d8c85dcd643359a57b89793ce0eb691);\n        \n    \n            var marker_93172539affe6f8a6d35286cd9c84433 = L.marker(\n                [28.56230197, -80.57735648],\n                {\n  &quot;iconColor&quot;: &quot;red&quot;,\n}\n            ).addTo(marker_cluster_5d8c85dcd643359a57b89793ce0eb691);\n        \n    \n            var marker_ae6fbfc9a4ad0665abe00ceb3b4fed68 = L.marker(\n                [28.56230197, -80.57735648],\n                {\n  &quot;iconColor&quot;: &quot;red&quot;,\n}\n            ).addTo(marker_cluster_5d8c85dcd643359a57b89793ce0eb691);\n        \n    \n            var marker_de3446d6f34269928fb476004ffed028 = L.marker(\n                [28.56230197, -80.57735648],\n                {\n  &quot;iconColor&quot;: &quot;red&quot;,\n}\n            ).addTo(marker_cluster_5d8c85dcd643359a57b89793ce0eb691);\n        \n    \n            var marker_571679e88ca449960467f0beee59f3a2 = L.marker(\n                [28.56230197, -80.57735648],\n                {\n  &quot;iconColor&quot;: &quot;red&quot;,\n}\n            ).addTo(marker_cluster_5d8c85dcd643359a57b89793ce0eb691);\n        \n    \n            var marker_51dc51613b31696e3f08b5b8da89fff9 = L.marker(\n                [28.56230197, -80.57735648],\n                {\n  &quot;iconColor&quot;: &quot;red&quot;,\n}\n            ).addTo(marker_cluster_5d8c85dcd643359a57b89793ce0eb691);\n        \n    \n            var marker_97c2fd213bc27ecba818b10007874d2f = L.marker(\n                [28.56230197, -80.57735648],\n                {\n  &quot;iconColor&quot;: &quot;red&quot;,\n}\n            ).addTo(marker_cluster_5d8c85dcd643359a57b89793ce0eb691);\n        \n    \n            var marker_c85797372fa56e25f3c78106fe2e9743 = L.marker(\n                [28.56230197, -80.57735648],\n                {\n  &quot;iconColor&quot;: &quot;red&quot;,\n}\n            ).addTo(marker_cluster_5d8c85dcd643359a57b89793ce0eb691);\n        \n    \n            var marker_7f4a449a5e7886f061866e9d92d75df0 = L.marker(\n                [28.56230197, -80.57735648],\n                {\n  &quot;iconColor&quot;: &quot;red&quot;,\n}\n            ).addTo(marker_cluster_5d8c85dcd643359a57b89793ce0eb691);\n        \n    \n            var marker_371845f7e16492dbb8f9eecb37ccbee8 = L.marker(\n                [28.56230197, -80.57735648],\n                {\n  &quot;iconColor&quot;: &quot;red&quot;,\n}\n            ).addTo(marker_cluster_5d8c85dcd643359a57b89793ce0eb691);\n        \n    \n            var marker_48e1b43819f4ee41479a1405d1539be8 = L.marker(\n                [28.56230197, -80.57735648],\n                {\n  &quot;iconColor&quot;: &quot;red&quot;,\n}\n            ).addTo(marker_cluster_5d8c85dcd643359a57b89793ce0eb691);\n        \n    \n            var marker_a69c6078bfb38fb79caa201126dbf7fa = L.marker(\n                [28.56230197, -80.57735648],\n                {\n  &quot;iconColor&quot;: &quot;red&quot;,\n}\n            ).addTo(marker_cluster_5d8c85dcd643359a57b89793ce0eb691);\n        \n    \n            var marker_d9953386fd410d9a21b1111ac8b1c5e7 = L.marker(\n                [28.56230197, -80.57735648],\n                {\n  &quot;iconColor&quot;: &quot;red&quot;,\n}\n            ).addTo(marker_cluster_5d8c85dcd643359a57b89793ce0eb691);\n        \n    \n            var marker_a09c2cbc7acd9c26b39ab9750cdc69cc = L.marker(\n                [28.56230197, -80.57735648],\n                {\n  &quot;iconColor&quot;: &quot;red&quot;,\n}\n            ).addTo(marker_cluster_5d8c85dcd643359a57b89793ce0eb691);\n        \n    \n            var marker_090ccea44b8badf0ce7aa4a5353a4442 = L.marker(\n                [28.56230197, -80.57735648],\n                {\n  &quot;iconColor&quot;: &quot;red&quot;,\n}\n            ).addTo(marker_cluster_5d8c85dcd643359a57b89793ce0eb691);\n        \n    \n            var marker_c79e8f7a82e77fa87436de623dad7bd2 = L.marker(\n                [28.56230197, -80.57735648],\n                {\n  &quot;iconColor&quot;: &quot;green&quot;,\n}\n            ).addTo(marker_cluster_5d8c85dcd643359a57b89793ce0eb691);\n        \n    \n            var marker_6b5f3f48cd8f961dc8e8a8debf90efbd = L.marker(\n                [28.56230197, -80.57735648],\n                {\n  &quot;iconColor&quot;: &quot;green&quot;,\n}\n            ).addTo(marker_cluster_5d8c85dcd643359a57b89793ce0eb691);\n        \n    \n            var marker_3b97d757aecf5c2c5b8e977d3360116f = L.marker(\n                [28.56230197, -80.57735648],\n                {\n  &quot;iconColor&quot;: &quot;red&quot;,\n}\n            ).addTo(marker_cluster_5d8c85dcd643359a57b89793ce0eb691);\n        \n    \n            var marker_51b7b24323776b9d261c6241e31eeab4 = L.marker(\n                [28.56230197, -80.57735648],\n                {\n  &quot;iconColor&quot;: &quot;green&quot;,\n}\n            ).addTo(marker_cluster_5d8c85dcd643359a57b89793ce0eb691);\n        \n    \n            var marker_a52bdc49335e0a874343b7cce8a19622 = L.marker(\n                [28.56230197, -80.57735648],\n                {\n  &quot;iconColor&quot;: &quot;green&quot;,\n}\n            ).addTo(marker_cluster_5d8c85dcd643359a57b89793ce0eb691);\n        \n    \n            var marker_fe27a77e9afb7f82ca2c899c586712ff = L.marker(\n                [28.56230197, -80.57735648],\n                {\n  &quot;iconColor&quot;: &quot;green&quot;,\n}\n            ).addTo(marker_cluster_5d8c85dcd643359a57b89793ce0eb691);\n        \n    \n            var marker_f9a006365f7fa0177fdd9378cf97a9b1 = L.marker(\n                [28.56230197, -80.57735648],\n                {\n  &quot;iconColor&quot;: &quot;red&quot;,\n}\n            ).addTo(marker_cluster_5d8c85dcd643359a57b89793ce0eb691);\n        \n    \n            var marker_6facac37734edd43ea49c7bc6d6569ed = L.marker(\n                [28.56230197, -80.57735648],\n                {\n  &quot;iconColor&quot;: &quot;green&quot;,\n}\n            ).addTo(marker_cluster_5d8c85dcd643359a57b89793ce0eb691);\n        \n    \n            var marker_31ad4b1de1610fea5db61750cbdceaba = L.marker(\n                [28.56230197, -80.57735648],\n                {\n  &quot;iconColor&quot;: &quot;green&quot;,\n}\n            ).addTo(marker_cluster_5d8c85dcd643359a57b89793ce0eb691);\n        \n    \n            var marker_e0721828e285543784bcb67f9ef169e5 = L.marker(\n                [34.63283416, -120.6107455],\n                {\n  &quot;iconColor&quot;: &quot;red&quot;,\n}\n            ).addTo(marker_cluster_5d8c85dcd643359a57b89793ce0eb691);\n        \n    \n            var marker_914bb93e32f62400d53c990e49c71ee4 = L.marker(\n                [34.63283416, -120.6107455],\n                {\n  &quot;iconColor&quot;: &quot;red&quot;,\n}\n            ).addTo(marker_cluster_5d8c85dcd643359a57b89793ce0eb691);\n        \n    \n            var marker_bbc869b8aa74ffe6e9cd537a9447e20a = L.marker(\n                [34.63283416, -120.6107455],\n                {\n  &quot;iconColor&quot;: &quot;green&quot;,\n}\n            ).addTo(marker_cluster_5d8c85dcd643359a57b89793ce0eb691);\n        \n    \n            var marker_cb5904045ff2ba13eb01c2760607f29a = L.marker(\n                [34.63283416, -120.6107455],\n                {\n  &quot;iconColor&quot;: &quot;green&quot;,\n}\n            ).addTo(marker_cluster_5d8c85dcd643359a57b89793ce0eb691);\n        \n    \n            var marker_65d9d7208d03bcb4b9d99cc5d4d4b7c2 = L.marker(\n                [34.63283416, -120.6107455],\n                {\n  &quot;iconColor&quot;: &quot;green&quot;,\n}\n            ).addTo(marker_cluster_5d8c85dcd643359a57b89793ce0eb691);\n        \n    \n            var marker_b9c0e564feb944172664bf123a105929 = L.marker(\n                [34.63283416, -120.6107455],\n                {\n  &quot;iconColor&quot;: &quot;green&quot;,\n}\n            ).addTo(marker_cluster_5d8c85dcd643359a57b89793ce0eb691);\n        \n    \n            var marker_4f841f89675b7e7bb657889fb17d346a = L.marker(\n                [34.63283416, -120.6107455],\n                {\n  &quot;iconColor&quot;: &quot;red&quot;,\n}\n            ).addTo(marker_cluster_5d8c85dcd643359a57b89793ce0eb691);\n        \n    \n            var marker_a893958feaf1c61ffadccc8b513ceb96 = L.marker(\n                [34.63283416, -120.6107455],\n                {\n  &quot;iconColor&quot;: &quot;red&quot;,\n}\n            ).addTo(marker_cluster_5d8c85dcd643359a57b89793ce0eb691);\n        \n    \n            var marker_8baf40e7f72a12027a0bb086cf7d6579 = L.marker(\n                [34.63283416, -120.6107455],\n                {\n  &quot;iconColor&quot;: &quot;red&quot;,\n}\n            ).addTo(marker_cluster_5d8c85dcd643359a57b89793ce0eb691);\n        \n    \n            var marker_543d33737b938efdd10a6e5429b6f945 = L.marker(\n                [34.63283416, -120.6107455],\n                {\n  &quot;iconColor&quot;: &quot;red&quot;,\n}\n            ).addTo(marker_cluster_5d8c85dcd643359a57b89793ce0eb691);\n        \n    \n            var marker_9b798806e0b2fc7b045a2fb1dbc7ecb5 = L.marker(\n                [28.57325457, -80.64689529],\n                {\n  &quot;iconColor&quot;: &quot;green&quot;,\n}\n            ).addTo(marker_cluster_5d8c85dcd643359a57b89793ce0eb691);\n        \n    \n            var marker_390f7999a5557a35f277bbaf720ada1b = L.marker(\n                [28.57325457, -80.64689529],\n                {\n  &quot;iconColor&quot;: &quot;red&quot;,\n}\n            ).addTo(marker_cluster_5d8c85dcd643359a57b89793ce0eb691);\n        \n    \n            var marker_9873414f584cb9125d9f3aaf56159f0e = L.marker(\n                [28.57325457, -80.64689529],\n                {\n  &quot;iconColor&quot;: &quot;green&quot;,\n}\n            ).addTo(marker_cluster_5d8c85dcd643359a57b89793ce0eb691);\n        \n    \n            var marker_81adc591f50ef13649e95fd42ae35ef3 = L.marker(\n                [28.57325457, -80.64689529],\n                {\n  &quot;iconColor&quot;: &quot;green&quot;,\n}\n            ).addTo(marker_cluster_5d8c85dcd643359a57b89793ce0eb691);\n        \n    \n            var marker_95ff804d7ccb13c8878d42a9310944f2 = L.marker(\n                [28.57325457, -80.64689529],\n                {\n  &quot;iconColor&quot;: &quot;red&quot;,\n}\n            ).addTo(marker_cluster_5d8c85dcd643359a57b89793ce0eb691);\n        \n    \n            var marker_656da43d17ae0397097671791d6f1ed6 = L.marker(\n                [28.57325457, -80.64689529],\n                {\n  &quot;iconColor&quot;: &quot;green&quot;,\n}\n            ).addTo(marker_cluster_5d8c85dcd643359a57b89793ce0eb691);\n        \n    \n            var marker_74aa2ee86ae5ec75be0ec73cfcdc79e0 = L.marker(\n                [28.57325457, -80.64689529],\n                {\n  &quot;iconColor&quot;: &quot;green&quot;,\n}\n            ).addTo(marker_cluster_5d8c85dcd643359a57b89793ce0eb691);\n        \n    \n            var marker_85de2eef802b7a2dccb0944fa3e51a0e = L.marker(\n                [28.57325457, -80.64689529],\n                {\n  &quot;iconColor&quot;: &quot;red&quot;,\n}\n            ).addTo(marker_cluster_5d8c85dcd643359a57b89793ce0eb691);\n        \n    \n            var marker_a349b999dd5ec48893bec54144829f8f = L.marker(\n                [28.57325457, -80.64689529],\n                {\n  &quot;iconColor&quot;: &quot;green&quot;,\n}\n            ).addTo(marker_cluster_5d8c85dcd643359a57b89793ce0eb691);\n        \n    \n            var marker_6f55ad2fa5379c8ae35bf92b23f32fb3 = L.marker(\n                [28.57325457, -80.64689529],\n                {\n  &quot;iconColor&quot;: &quot;green&quot;,\n}\n            ).addTo(marker_cluster_5d8c85dcd643359a57b89793ce0eb691);\n        \n    \n            var marker_5dd811826bb7f672bb8c314c34b40d49 = L.marker(\n                [28.57325457, -80.64689529],\n                {\n  &quot;iconColor&quot;: &quot;green&quot;,\n}\n            ).addTo(marker_cluster_5d8c85dcd643359a57b89793ce0eb691);\n        \n    \n            var marker_f4121de559d116f2b50b4beb0f57fb5a = L.marker(\n                [28.57325457, -80.64689529],\n                {\n  &quot;iconColor&quot;: &quot;green&quot;,\n}\n            ).addTo(marker_cluster_5d8c85dcd643359a57b89793ce0eb691);\n        \n    \n            var marker_8da14b0214b3d9913ad8e6dc29753a59 = L.marker(\n                [28.57325457, -80.64689529],\n                {\n  &quot;iconColor&quot;: &quot;green&quot;,\n}\n            ).addTo(marker_cluster_5d8c85dcd643359a57b89793ce0eb691);\n        \n    \n            var marker_a26a091370a8899bd0799d9384f99101 = L.marker(\n                [28.56319718, -80.57682003],\n                {\n  &quot;iconColor&quot;: &quot;green&quot;,\n}\n            ).addTo(marker_cluster_5d8c85dcd643359a57b89793ce0eb691);\n        \n    \n            var marker_f8056d953e94c0b54bc3bd24a42bcf80 = L.marker(\n                [28.56319718, -80.57682003],\n                {\n  &quot;iconColor&quot;: &quot;green&quot;,\n}\n            ).addTo(marker_cluster_5d8c85dcd643359a57b89793ce0eb691);\n        \n    \n            var marker_0bcb421a384308161f5312fb8653b7b0 = L.marker(\n                [28.56319718, -80.57682003],\n                {\n  &quot;iconColor&quot;: &quot;red&quot;,\n}\n            ).addTo(marker_cluster_5d8c85dcd643359a57b89793ce0eb691);\n        \n    \n            var marker_01a3c436b790895525de7e65a0fe9aac = L.marker(\n                [28.56319718, -80.57682003],\n                {\n  &quot;iconColor&quot;: &quot;red&quot;,\n}\n            ).addTo(marker_cluster_5d8c85dcd643359a57b89793ce0eb691);\n        \n    \n            var marker_2c853300272088ac63af65af1084667e = L.marker(\n                [28.56319718, -80.57682003],\n                {\n  &quot;iconColor&quot;: &quot;red&quot;,\n}\n            ).addTo(marker_cluster_5d8c85dcd643359a57b89793ce0eb691);\n        \n    \n            var marker_3b3423000ac59e69852def2dc3d93f20 = L.marker(\n                [28.56319718, -80.57682003],\n                {\n  &quot;iconColor&quot;: &quot;green&quot;,\n}\n            ).addTo(marker_cluster_5d8c85dcd643359a57b89793ce0eb691);\n        \n    \n            var marker_aeb42a537efdb1a3f2a834236ad794ab = L.marker(\n                [28.56319718, -80.57682003],\n                {\n  &quot;iconColor&quot;: &quot;red&quot;,\n}\n            ).addTo(marker_cluster_5d8c85dcd643359a57b89793ce0eb691);\n        \n    \n            tile_layer_e9a5c64d80cb96647d56720bb93153bc.addTo(map_37da422306de58328c9e44f62866bb08);\n        \n    \n                marker_646749a3f316612c85903930adbd9177.setIcon(div_icon_b4c7221ca3277ccc9ddaec75fb29972f);\n            \n    \n            marker_cluster_5d8c85dcd643359a57b89793ce0eb691.addTo(map_37da422306de58328c9e44f62866bb08);\n        \n    \n            var mouse_position_54d42ddce9f83d058d75ff9a947213bc = new L.Control.MousePosition(\n                {\n  &quot;position&quot;: &quot;topright&quot;,\n  &quot;separator&quot;: &quot; Long: &quot;,\n  &quot;emptyString&quot;: &quot;NaN&quot;,\n  &quot;lngFirst&quot;: false,\n  &quot;numDigits&quot;: 20,\n  &quot;prefix&quot;: &quot;Lat:&quot;,\n}\n            );\n            mouse_position_54d42ddce9f83d058d75ff9a947213bc.options[&quot;latFormatter&quot;] =\n                function(num) {return L.Util.formatNum(num, 5);};;\n            mouse_position_54d42ddce9f83d058d75ff9a947213bc.options[&quot;lngFormatter&quot;] =\n                function(num) {return L.Util.formatNum(num, 5);};;\n            map_37da422306de58328c9e44f62866bb08.addControl(mouse_position_54d42ddce9f83d058d75ff9a947213bc);\n        \n&lt;/script&gt;\n&lt;/html&gt;\" style=\"position:absolute;width:100%;height:100%;left:0;top:0;border:none !important;\" allowfullscreen webkitallowfullscreen mozallowfullscreen></iframe></div></div>"
          },
          "metadata": {}
        }
      ],
      "execution_count": 15
    },
    {
      "cell_type": "markdown",
      "source": "Now zoom in to a launch site and explore its proximity to see if you can easily find any railway, highway, coastline, etc. Move your mouse to these points and mark down their coordinates (shown on the top-left) in order to the distance to the launch site.\n",
      "metadata": {}
    },
    {
      "cell_type": "markdown",
      "source": "Now zoom in to a launch site and explore its proximity to see if you can easily find any railway, highway, coastline, etc. Move your mouse to these points and mark down their coordinates (shown on the top-left) in order to the distance to the launch site.\n",
      "metadata": {}
    },
    {
      "cell_type": "code",
      "source": "from math import sin, cos, sqrt, atan2, radians\n\ndef calculate_distance(lat1, lon1, lat2, lon2):\n    # approximate radius of earth in km\n    R = 6373.0\n\n    lat1 = radians(lat1)\n    lon1 = radians(lon1)\n    lat2 = radians(lat2)\n    lon2 = radians(lon2)\n\n    dlon = lon2 - lon1\n    dlat = lat2 - lat1\n\n    a = sin(dlat / 2)**2 + cos(lat1) * cos(lat2) * sin(dlon / 2)**2\n    c = 2 * atan2(sqrt(a), sqrt(1 - a))\n\n    distance = R * c\n    return distance",
      "metadata": {
        "trusted": true
      },
      "outputs": [],
      "execution_count": 16
    },
    {
      "cell_type": "markdown",
      "source": "*TODO:* Mark down a point on the closest coastline using MousePosition and calculate the distance between the coastline point and the launch site.\n",
      "metadata": {}
    },
    {
      "cell_type": "code",
      "source": "# find coordinate of the closet coastline\n# e.g.,: Lat: 28.56367  Lon: -80.57163\n# distance_coastline = calculate_distance(launch_site_lat, launch_site_lon, coastline_lat, coastline_lon)",
      "metadata": {},
      "outputs": [],
      "execution_count": null
    },
    {
      "cell_type": "code",
      "source": "# Create and add a folium.Marker on your selected closest coastline point on the map\n# Display the distance between coastline point and launch site using the icon property \n# for example\n# distance_marker = folium.Marker(\n#    coordinate,\n#    icon=DivIcon(\n#        icon_size=(20,20),\n#        icon_anchor=(0,0),\n#        html='<div style=\"font-size: 12; color:#d35400;\"><b>%s</b></div>' % \"{:10.2f} KM\".format(distance),\n#        )\n#    )",
      "metadata": {},
      "outputs": [],
      "execution_count": null
    },
    {
      "cell_type": "markdown",
      "source": "*TODO:* Draw a `PolyLine` between a launch site to the selected coastline point\n",
      "metadata": {}
    },
    {
      "cell_type": "code",
      "source": "# Create a `folium.PolyLine` object using the coastline coordinates and launch site coordinate\n# lines=folium.PolyLine(locations=coordinates, weight=1)\nsite_map.add_child(lines)",
      "metadata": {},
      "outputs": [],
      "execution_count": null
    },
    {
      "cell_type": "markdown",
      "source": "Your updated map with distance line should look like the following screenshot:\n",
      "metadata": {}
    },
    {
      "cell_type": "markdown",
      "source": "<center>\n    <img src=\"https://cf-courses-data.s3.us.cloud-object-storage.appdomain.cloud/IBM-DS0321EN-SkillsNetwork/labs/module_3/images/launch_site_marker_distance.png\">\n</center>\n",
      "metadata": {}
    },
    {
      "cell_type": "markdown",
      "source": "*TODO:* Similarly, you can draw a line betwee a launch site to its closest city, railway, highway, etc. You need to use `MousePosition` to find the their coordinates on the map first\n",
      "metadata": {}
    },
    {
      "cell_type": "markdown",
      "source": "A railway map symbol may look like this:\n",
      "metadata": {}
    },
    {
      "cell_type": "markdown",
      "source": "<center>\n    <img src=\"https://cf-courses-data.s3.us.cloud-object-storage.appdomain.cloud/IBM-DS0321EN-SkillsNetwork/labs/module_3/images/railway.png\">\n</center>\n",
      "metadata": {}
    },
    {
      "cell_type": "markdown",
      "source": "A highway map symbol may look like this:\n",
      "metadata": {}
    },
    {
      "cell_type": "markdown",
      "source": "<center>\n    <img src=\"https://cf-courses-data.s3.us.cloud-object-storage.appdomain.cloud/IBM-DS0321EN-SkillsNetwork/labs/module_3/images/highway.png\">\n</center>\n",
      "metadata": {}
    },
    {
      "cell_type": "markdown",
      "source": "A city map symbol may look like this:\n",
      "metadata": {}
    },
    {
      "cell_type": "markdown",
      "source": "<center>\n    <img src=\"https://cf-courses-data.s3.us.cloud-object-storage.appdomain.cloud/IBM-DS0321EN-SkillsNetwork/labs/module_3/images/city.png\">\n</center>\n",
      "metadata": {}
    },
    {
      "cell_type": "code",
      "source": "# Create a marker with distance to a closest city, railway, highway, etc.\n# Draw a line between the marker to the launch site\n",
      "metadata": {},
      "outputs": [],
      "execution_count": null
    },
    {
      "cell_type": "code",
      "source": "",
      "metadata": {},
      "outputs": [],
      "execution_count": null
    },
    {
      "cell_type": "code",
      "source": "",
      "metadata": {},
      "outputs": [],
      "execution_count": null
    },
    {
      "cell_type": "markdown",
      "source": "After you plot distance lines to the proximities, you can answer the following questions easily:\n\n*   Are launch sites in close proximity to railways?\n*   Are launch sites in close proximity to highways?\n*   Are launch sites in close proximity to coastline?\n*   Do launch sites keep certain distance away from cities?\n\nAlso please try to explain your findings.\n",
      "metadata": {}
    },
    {
      "cell_type": "markdown",
      "source": "# Next Steps:\n\nNow you have discovered many interesting insights related to the launch sites' location using folium, in a very interactive way. Next, you will need to build a dashboard using Ploty Dash on detailed launch records.\n",
      "metadata": {}
    },
    {
      "cell_type": "markdown",
      "source": "## Authors\n",
      "metadata": {}
    },
    {
      "cell_type": "markdown",
      "source": "[Pratiksha Verma](https://www.linkedin.com/in/pratiksha-verma-6487561b1/)\n",
      "metadata": {}
    },
    {
      "cell_type": "markdown",
      "source": "<!--## Change Log--!>\n",
      "metadata": {}
    },
    {
      "cell_type": "markdown",
      "source": "<!--| Date (YYYY-MM-DD) | Version | Changed By      | Change Description      |\n| ----------------- | ------- | -------------   | ----------------------- |\n| 2022-11-09        | 1.0     | Pratiksha Verma | Converted initial version to Jupyterlite|--!>\n",
      "metadata": {}
    },
    {
      "cell_type": "markdown",
      "source": "### <h3 align=\"center\"> IBM Corporation 2022. All rights reserved. <h3/>\n",
      "metadata": {}
    }
  ]
}